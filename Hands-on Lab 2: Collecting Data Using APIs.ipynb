{
    "cells": [
        {
            "metadata": {},
            "cell_type": "markdown",
            "source": "<center>\n    <img src=\"https://gitlab.com/ibm/skills-network/courses/placeholder101/-/raw/master/labs/module%201/images/IDSNlogo.png\" width=\"300\" alt=\"cognitiveclass.ai logo\"  />\n</center>\n"
        },
        {
            "metadata": {},
            "cell_type": "markdown",
            "source": "# **Collecting Job Data Using APIs**\n"
        },
        {
            "metadata": {},
            "cell_type": "markdown",
            "source": "Estimated time needed: **45 to 60** minutes\n"
        },
        {
            "metadata": {},
            "cell_type": "markdown",
            "source": "## Objectives\n"
        },
        {
            "metadata": {},
            "cell_type": "markdown",
            "source": "After completing this lab, you will be able to:\n"
        },
        {
            "metadata": {},
            "cell_type": "markdown",
            "source": "*   Collect job data from GitHub Jobs API\n*   Store the collected data into an excel spreadsheet.\n"
        },
        {
            "metadata": {},
            "cell_type": "markdown",
            "source": "## Warm-Up Exercise\n"
        },
        {
            "metadata": {},
            "cell_type": "markdown",
            "source": "Before you attempt the actual lab, here is a fully solved warmup exercise that will help you to learn how to access an API.\n"
        },
        {
            "metadata": {},
            "cell_type": "markdown",
            "source": "Using an API, let us find out who currently are on the International Space Station (ISS).<br> The API at [http://api.open-notify.org/astros.json](http://api.open-notify.org/astros.json?utm_medium=Exinfluencer\\&utm_source=Exinfluencer\\&utm_content=000026UJ\\&utm_term=10006555\\&utm_id=NA-SkillsNetwork-Channel-SkillsNetworkCoursesIBMDA0321ENSkillsNetwork21426264-2021-01-01\\&cm_mmc=Email_Newsletter-\\_-Developer_Ed%2BTech-\\_-WW_WW-\\_-SkillsNetwork-Courses-IBM-DA0321EN-SkillsNetwork-21426264\\&cm_mmca1=000026UJ\\&cm_mmca2=10006555\\&cm_mmca3=M12345678\\&cvosrc=email.Newsletter.M12345678\\&cvo_campaign=000026UJ) gives us the information of astronauts currently on ISS in json format.<br>\nYou can read more about this API at [http://open-notify.org/Open-Notify-API/People-In-Space/](http://open-notify.org/Open-Notify-API/People-In-Space?utm_medium=Exinfluencer\\&utm_source=Exinfluencer\\&utm_content=000026UJ\\&utm_term=10006555\\&utm_id=NA-SkillsNetwork-Channel-SkillsNetworkCoursesIBMDA0321ENSkillsNetwork21426264-2021-01-01\\&cm_mmc=Email_Newsletter-\\_-Developer_Ed%2BTech-\\_-WW_WW-\\_-SkillsNetwork-Courses-IBM-DA0321EN-SkillsNetwork-21426264\\&cm_mmca1=000026UJ\\&cm_mmca2=10006555\\&cm_mmca3=M12345678\\&cvosrc=email.Newsletter.M12345678\\&cvo_campaign=000026UJ)\n"
        },
        {
            "metadata": {},
            "cell_type": "code",
            "source": "import requests # you need this module to make an API call",
            "execution_count": 1,
            "outputs": []
        },
        {
            "metadata": {},
            "cell_type": "code",
            "source": "api_url = \"http://api.open-notify.org/astros.json\" # this url gives use the astronaut data",
            "execution_count": 2,
            "outputs": []
        },
        {
            "metadata": {},
            "cell_type": "code",
            "source": "response = requests.get(api_url) # Call the API using the get method and store the\n                                # output of the API call in a variable called response.",
            "execution_count": 3,
            "outputs": []
        },
        {
            "metadata": {},
            "cell_type": "code",
            "source": "if response.ok:             # if all is well() no errors, no network timeouts)\n    data = response.json()  # store the result in json format in a variable called data\n                            # the variable data is of type dictionary.",
            "execution_count": 4,
            "outputs": []
        },
        {
            "metadata": {},
            "cell_type": "code",
            "source": "print(data)   # print the data just to check the output or for debugging",
            "execution_count": 5,
            "outputs": [
                {
                    "output_type": "stream",
                    "text": "{'people': [{'name': 'Mark Vande Hei', 'craft': 'ISS'}, {'name': 'Oleg Novitskiy', 'craft': 'ISS'}, {'name': 'Pyotr Dubrov', 'craft': 'ISS'}, {'name': 'Thomas Pesquet', 'craft': 'ISS'}, {'name': 'Megan McArthur', 'craft': 'ISS'}, {'name': 'Shane Kimbrough', 'craft': 'ISS'}, {'name': 'Akihiko Hoshide', 'craft': 'ISS'}, {'name': 'Nie Haisheng', 'craft': 'Tiangong'}, {'name': 'Liu Boming', 'craft': 'Tiangong'}, {'name': 'Tang Hongbo', 'craft': 'Tiangong'}], 'number': 10, 'message': 'success'}\n",
                    "name": "stdout"
                }
            ]
        },
        {
            "metadata": {},
            "cell_type": "markdown",
            "source": "Print the number of astronauts currently on ISS.\n"
        },
        {
            "metadata": {},
            "cell_type": "code",
            "source": "print(data.get('number'))",
            "execution_count": 6,
            "outputs": [
                {
                    "output_type": "stream",
                    "text": "10\n",
                    "name": "stdout"
                }
            ]
        },
        {
            "metadata": {},
            "cell_type": "markdown",
            "source": "Print the names of the astronauts currently on ISS.\n"
        },
        {
            "metadata": {},
            "cell_type": "code",
            "source": "astronauts = data.get('people')\nprint(\"There are {} astronauts on ISS\".format(len(astronauts)))\nprint(\"And their names are :\")\nfor astronaut in astronauts:\n    print(astronaut.get('name'))",
            "execution_count": 7,
            "outputs": [
                {
                    "output_type": "stream",
                    "text": "There are 10 astronauts on ISS\nAnd their names are :\nMark Vande Hei\nOleg Novitskiy\nPyotr Dubrov\nThomas Pesquet\nMegan McArthur\nShane Kimbrough\nAkihiko Hoshide\nNie Haisheng\nLiu Boming\nTang Hongbo\n",
                    "name": "stdout"
                }
            ]
        },
        {
            "metadata": {},
            "cell_type": "markdown",
            "source": "Hope the warmup was helpful. Good luck with your next lab!\n"
        },
        {
            "metadata": {},
            "cell_type": "markdown",
            "source": "## Lab: Collect Jobs Data using GitHub Jobs API\n"
        },
        {
            "metadata": {},
            "cell_type": "markdown",
            "source": "### Objective: Determine the number of jobs currently open for various technologies\n"
        },
        {
            "metadata": {},
            "cell_type": "markdown",
            "source": "Collect the number of job postings for the following languages using the API:\n\n*   C\n*   C#\n*   C++\n*   Java\n*   JavaScript\n*   Python\n*   Scala\n*   Oracle\n*   SQL Server\n*   MySQL Server\n*   PostgreSQL\n*   MongoDB\n"
        },
        {
            "metadata": {},
            "cell_type": "code",
            "source": "#Import required libraries\nimport requests",
            "execution_count": 8,
            "outputs": []
        },
        {
            "metadata": {},
            "cell_type": "code",
            "source": "baseurl = \"https://cf-courses-data.s3.us.cloud-object-storage.appdomain.cloud/IBM-DA0321EN-SkillsNetwork/labs/module%201/datasets/githubposting.json\"\nresponse_jobs = requests.get(baseurl)\n\nif response_jobs.ok:\n    data_jobs = response_jobs.json()\nprint(data_jobs)",
            "execution_count": 9,
            "outputs": [
                {
                    "output_type": "stream",
                    "text": "[{'A': 'technology', 'B': 'number of job posting'}, {'A': 'java', 'B': '92'}, {'A': 'C', 'B': '184'}, {'A': 'C#', 'B': '14'}, {'A': 'C++', 'B': '24'}, {'A': 'Java', 'B': '92'}, {'A': 'JavaScript', 'B': '65'}, {'A': 'Python', 'B': '51'}, {'A': 'Scala', 'B': '47'}, {'A': 'Oracle', 'B': '6'}, {'A': 'SQL Server', 'B': '16'}, {'A': 'MySQL Server', 'B': '5'}, {'A': 'PostgreSQL', 'B': '17'}, {'A': 'MongoDB', 'B': '4'}]\n",
                    "name": "stdout"
                }
            ]
        },
        {
            "metadata": {},
            "cell_type": "markdown",
            "source": "Write a function to get the number of jobs for the given technology.<br>\n*Note:* The API gives a maximum of 50 jobs per page.<br>\nIf you get 50 jobs per page, it means there could be some more job listings available.<br>\nSo if you get 50 jobs per page you should make another API call for next page to check for more jobs.<br>\nIf you get less than 50 jobs per page, you can take it as the final count.<br>\n"
        },
        {
            "metadata": {},
            "cell_type": "code",
            "source": "def get_number_of_jobs(technology):\n    number_of_jobs = 0\n    #your code goes here\n    for jobs in data_jobs:\n        if(jobs.get('A').lower() == technology):\n            number_of_jobs = number_of_jobs + int(jobs.get('B'))\n    return technology,number_of_jobs",
            "execution_count": 20,
            "outputs": []
        },
        {
            "metadata": {},
            "cell_type": "markdown",
            "source": "Call the function for Python and check if it is working.\n"
        },
        {
            "metadata": {},
            "cell_type": "code",
            "source": "print(get_number_of_jobs('python'))\npython_jobs = get_number_of_jobs('python')\nprint(\"There are {} jobs for {} on GitHub Job Posting\".format(python_jobs[1], python_jobs[0].capitalize()))",
            "execution_count": 26,
            "outputs": [
                {
                    "output_type": "stream",
                    "text": "('python', 51)\nThere are 51 jobs for Python on GitHub Job Posting\n",
                    "name": "stdout"
                }
            ]
        },
        {
            "metadata": {},
            "cell_type": "markdown",
            "source": "### Store the results in an excel file\n"
        },
        {
            "metadata": {},
            "cell_type": "markdown",
            "source": "Call the API for all the given technologies above and write the results in an excel spreadsheet.\n"
        },
        {
            "metadata": {},
            "cell_type": "markdown",
            "source": "If you do not know how create excel file using python, double click here for **hints**.\n\n<!--\n\nfrom openpyxl import Workbook        # import Workbook class from module openpyxl\nwb=Workbook()                        # create a workbook object\nws=wb.active                         # use the active worksheet\nws.append(['Country','Continent'])   # add a row with two columns 'Country' and 'Continent'\nws.append(['Eygpt','Africa'])        # add a row with two columns 'Egypt' and 'Africa'\nws.append(['India','Asia'])          # add another row\nws.append(['France','Europe'])       # add another row\nwb.save(\"countries.xlsx\")            # save the workbook into a file called countries.xlsx\n\n\n-->\n"
        },
        {
            "metadata": {},
            "cell_type": "markdown",
            "source": "Create a python list of all technologies for which you need to find the number of jobs postings.\n"
        },
        {
            "metadata": {},
            "cell_type": "code",
            "source": "#your code goes here\njob_list = []\nfor jobs in data_jobs:\n        job_list.append([jobs.get('A'),jobs.get('B')])\n        \njob_list",
            "execution_count": 27,
            "outputs": [
                {
                    "output_type": "execute_result",
                    "execution_count": 27,
                    "data": {
                        "text/plain": "[['technology', 'number of job posting'],\n ['java', '92'],\n ['C', '184'],\n ['C#', '14'],\n ['C++', '24'],\n ['Java', '92'],\n ['JavaScript', '65'],\n ['Python', '51'],\n ['Scala', '47'],\n ['Oracle', '6'],\n ['SQL Server', '16'],\n ['MySQL Server', '5'],\n ['PostgreSQL', '17'],\n ['MongoDB', '4']]"
                    },
                    "metadata": {}
                }
            ]
        },
        {
            "metadata": {},
            "cell_type": "markdown",
            "source": "Import libraries required to create excel spreadsheet\n"
        },
        {
            "metadata": {},
            "cell_type": "code",
            "source": "conda install -c anaconda openpyxl\n",
            "execution_count": 36,
            "outputs": [
                {
                    "output_type": "stream",
                    "text": "Collecting package metadata (current_repodata.json): done\nSolving environment: done\n\n## Package Plan ##\n\n  environment location: /opt/conda/envs/Python-3.7-OpenCE\n\n  added / updated specs:\n    - openpyxl\n\n\nThe following packages will be downloaded:\n\n    package                    |            build\n    ---------------------------|-----------------\n    et_xmlfile-1.0.1           |          py_1001          11 KB  anaconda\n    jdcal-1.4.1                |             py_0          11 KB  anaconda\n    openpyxl-3.0.5             |             py_0         153 KB  anaconda\n    ------------------------------------------------------------\n                                           Total:         175 KB\n\nThe following NEW packages will be INSTALLED:\n\n  et_xmlfile         anaconda/noarch::et_xmlfile-1.0.1-py_1001\n  jdcal              anaconda/noarch::jdcal-1.4.1-py_0\n  openpyxl           anaconda/noarch::openpyxl-3.0.5-py_0\n\n\n\nDownloading and Extracting Packages\net_xmlfile-1.0.1     | 11 KB     | ##################################### | 100% \nopenpyxl-3.0.5       | 153 KB    | ##################################### | 100% \njdcal-1.4.1          | 11 KB     | ##################################### | 100% \nPreparing transaction: done\nVerifying transaction: done\nExecuting transaction: done\n\nNote: you may need to restart the kernel to use updated packages.\n",
                    "name": "stdout"
                }
            ]
        },
        {
            "metadata": {},
            "cell_type": "markdown",
            "source": "Create a workbook and select the active worksheet\n"
        },
        {
            "metadata": {},
            "cell_type": "code",
            "source": "# import Workbook class from module openpyxl\nfrom openpyxl import Workbook\nwb=Workbook()                        # create a workbook object\nws=wb.active                         # use the active worksheet",
            "execution_count": 37,
            "outputs": []
        },
        {
            "metadata": {},
            "cell_type": "markdown",
            "source": "Find the number of jobs postings for each of the technology in the above list.\nWrite the technology name and the number of jobs postings into the excel spreadsheet.\n"
        },
        {
            "metadata": {},
            "cell_type": "code",
            "source": "#your code goes here\nfor job in job_list:\n    ws.append(job)\nworkbook.close()",
            "execution_count": 38,
            "outputs": []
        },
        {
            "metadata": {},
            "cell_type": "markdown",
            "source": "Save into an excel spreadsheet named 'github-job-postings.xlsx'.\n"
        },
        {
            "metadata": {},
            "cell_type": "code",
            "source": "#your code goes here\nwb.save(\"github-job-postings.xlsx\")            # save the workbook into a file called github-job-postings.xlsx",
            "execution_count": 39,
            "outputs": []
        },
        {
            "metadata": {},
            "cell_type": "markdown",
            "source": "## Authors\n"
        },
        {
            "metadata": {},
            "cell_type": "markdown",
            "source": "Ramesh Sannareddy\n"
        },
        {
            "metadata": {},
            "cell_type": "markdown",
            "source": "### Other Contributors\n"
        },
        {
            "metadata": {},
            "cell_type": "markdown",
            "source": "Rav Ahuja\n"
        },
        {
            "metadata": {},
            "cell_type": "markdown",
            "source": "## Change Log\n"
        },
        {
            "metadata": {},
            "cell_type": "markdown",
            "source": "| Date (YYYY-MM-DD) | Version | Changed By        | Change Description                 |\n| ----------------- | ------- | ----------------- | ---------------------------------- |\n| 2021-6-25         | 0.2     | Malika            | Updated GitHub job json link       |\n| 2020-10-17        | 0.1     | Ramesh Sannareddy | Created initial version of the lab |\n"
        },
        {
            "metadata": {},
            "cell_type": "markdown",
            "source": "Copyright \u00a9 2020 IBM Corporation. This notebook and its source code are released under the terms of the [MIT License](https://cognitiveclass.ai/mit-license?utm_medium=Exinfluencer\\&utm_source=Exinfluencer\\&utm_content=000026UJ\\&utm_term=10006555\\&utm_id=NA-SkillsNetwork-Channel-SkillsNetworkCoursesIBMDA0321ENSkillsNetwork21426264-2021-01-01\\&cm_mmc=Email_Newsletter-\\_-Developer_Ed%2BTech-\\_-WW_WW-\\_-SkillsNetwork-Courses-IBM-DA0321EN-SkillsNetwork-21426264\\&cm_mmca1=000026UJ\\&cm_mmca2=10006555\\&cm_mmca3=M12345678\\&cvosrc=email.Newsletter.M12345678\\&cvo_campaign=000026UJ).\n"
        }
    ],
    "metadata": {
        "kernelspec": {
            "name": "python3",
            "display_name": "Python 3.7",
            "language": "python"
        },
        "language_info": {
            "name": "python",
            "version": "3.7.10",
            "mimetype": "text/x-python",
            "codemirror_mode": {
                "name": "ipython",
                "version": 3
            },
            "pygments_lexer": "ipython3",
            "nbconvert_exporter": "python",
            "file_extension": ".py"
        }
    },
    "nbformat": 4,
    "nbformat_minor": 4
}